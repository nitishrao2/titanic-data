{
 "cells": [
  {
   "cell_type": "code",
   "execution_count": 169,
   "id": "4ce66751",
   "metadata": {},
   "outputs": [],
   "source": [
    "import pandas as pd\n",
    "from sklearn.ensemble import RandomForestClassifier\n",
    "from sklearn.metrics import classification_report\n",
    "from sklearn.model_selection import train_test_split\n",
    "from sklearn.linear_model import LogisticRegression\n",
    "from xgboost import XGBClassifier\n",
    "from sklearn.neighbors import KNeighborsClassifier\n",
    "from sklearn.tree import DecisionTreeClassifier\n",
    "from sklearn.feature_selection import mutual_info_classif\n",
    "from sklearn.preprocessing import MinMaxScaler, LabelEncoder"
   ]
  },
  {
   "cell_type": "code",
   "execution_count": 170,
   "id": "1556cff4",
   "metadata": {},
   "outputs": [
    {
     "name": "stdout",
     "output_type": "stream",
     "text": [
      "<class 'pandas.core.frame.DataFrame'>\n",
      "RangeIndex: 1000 entries, 0 to 999\n",
      "Data columns (total 11 columns):\n",
      " #   Column       Non-Null Count  Dtype  \n",
      "---  ------       --------------  -----  \n",
      " 0   PassengerId  1000 non-null   int64  \n",
      " 1   Pclass       1000 non-null   int64  \n",
      " 2   Name         1000 non-null   object \n",
      " 3   Sex          1000 non-null   object \n",
      " 4   Age          1000 non-null   int64  \n",
      " 5   SibSp        1000 non-null   int64  \n",
      " 6   Parch        1000 non-null   int64  \n",
      " 7   Ticket       1000 non-null   object \n",
      " 8   Fare         1000 non-null   float64\n",
      " 9   Embarked     1000 non-null   object \n",
      " 10  Survived     1000 non-null   int64  \n",
      "dtypes: float64(1), int64(6), object(4)\n",
      "memory usage: 86.1+ KB\n"
     ]
    }
   ],
   "source": [
    "df = pd.read_csv(\"Titanic.csv\")\n",
    "df.info()"
   ]
  },
  {
   "cell_type": "code",
   "execution_count": 181,
   "id": "9c29689f",
   "metadata": {},
   "outputs": [
    {
     "name": "stdout",
     "output_type": "stream",
     "text": [
      "     PassengerId  Pclass               Name  Sex  Age  SibSp  Parch  \\\n",
      "0              1       3       Allison Hill    1   17      4      2   \n",
      "1              2       1        Noah Rhodes    1   60      2      2   \n",
      "2              3       3    Angie Henderson    1   64      0      0   \n",
      "3              4       3      Daniel Wagner    1   35      4      0   \n",
      "4              5       1    Cristian Santos    0   70      0      3   \n",
      "..           ...     ...                ...  ...  ...    ...    ...   \n",
      "995          996       2      Brittany Ward    1   69      2      3   \n",
      "996          997       2     Edward Stanley    0   61      4      4   \n",
      "997          998       3  Christina Johnson    1   10      4      1   \n",
      "998          999       3       Edgar Miller    1   50      3      2   \n",
      "999         1000       1  Elizabeth Sanders    1    3      3      3   \n",
      "\n",
      "                                   Ticket    Fare  Embarked  Survived  \\\n",
      "0    43d75413-a939-4bd1-a516-b0d47d3572cc  144.08         1         1   \n",
      "1    6334fa2a-8b4b-47e7-a451-5ae01754bf08  249.04         2         0   \n",
      "2    61a66444-e2af-4629-9efb-336e2f546033   50.31         1         1   \n",
      "3    0b6c03c8-721e-4419-afc3-e6495e911b91  235.20         0         1   \n",
      "4    436e3c49-770e-49db-b092-d40143675d58  160.17         0         1   \n",
      "..                                    ...     ...       ...       ...   \n",
      "995  75eb0e8f-a090-460d-a7c7-655a7b434a72   19.87         1         1   \n",
      "996  e55b93ad-8976-4471-9d7f-57d1e45def26   85.35         0         0   \n",
      "997  d06d3943-c8b3-415e-b664-704355c9bf0f  444.22         0         0   \n",
      "998  0e5779ec-be1a-470f-ad83-a4c869f8d3e4  234.67         2         1   \n",
      "999  90a014ab-4ca1-4abd-8565-0e0bd5c97d5d  286.65         0         1   \n",
      "\n",
      "     FamilySize  \n",
      "0             6  \n",
      "1             4  \n",
      "2             0  \n",
      "3             4  \n",
      "4             3  \n",
      "..          ...  \n",
      "995           5  \n",
      "996           8  \n",
      "997           5  \n",
      "998           5  \n",
      "999           6  \n",
      "\n",
      "[1000 rows x 12 columns]\n"
     ]
    }
   ],
   "source": [
    "df['FamilySize'] = df['SibSp'] + df['Parch']\n",
    "\n",
    "encoder = LabelEncoder()\n",
    "df['Sex'] = encoder.fit_transform(df['Sex'])\n",
    "df['Embarked'] = encoder.fit_transform(df['Embarked'])\n",
    "print(df)"
   ]
  },
  {
   "cell_type": "code",
   "execution_count": 177,
   "id": "844614e7",
   "metadata": {},
   "outputs": [
    {
     "name": "stdout",
     "output_type": "stream",
     "text": [
      "     Pclass  Sex       Age  SibSp  Parch      Fare  Embarked  FamilySize\n",
      "0       1.0  1.0  0.205128   1.00   0.50  0.273726       0.5       0.750\n",
      "1       0.0  1.0  0.756410   0.50   0.50  0.488035       1.0       0.500\n",
      "2       1.0  1.0  0.807692   0.00   0.00  0.082265       0.5       0.000\n",
      "3       1.0  1.0  0.435897   1.00   0.00  0.459776       0.0       0.500\n",
      "4       0.0  0.0  0.884615   0.00   0.75  0.306579       0.0       0.375\n",
      "..      ...  ...       ...    ...    ...       ...       ...         ...\n",
      "995     0.5  1.0  0.871795   0.50   0.75  0.020112       0.5       0.625\n",
      "996     0.5  0.0  0.769231   1.00   1.00  0.153810       0.0       1.000\n",
      "997     1.0  1.0  0.115385   1.00   0.25  0.886557       0.0       0.625\n",
      "998     1.0  1.0  0.628205   0.75   0.50  0.458694       1.0       0.625\n",
      "999     0.0  1.0  0.025641   0.75   0.75  0.564828       0.0       0.750\n",
      "\n",
      "[1000 rows x 8 columns]\n"
     ]
    }
   ],
   "source": [
    "X = df.drop(columns=['PassengerId', 'Name', 'Ticket', 'Survived'])\n",
    "y = df['Survived']\n",
    "\n",
    "scalar = MinMaxScaler()\n",
    "X_scaled = pd.DataFrame(scalar.fit_transform(X), columns=X.columns)\n",
    "print(X_scaled)"
   ]
  },
  {
   "cell_type": "code",
   "execution_count": 178,
   "id": "29acede1",
   "metadata": {},
   "outputs": [],
   "source": [
    "X_train, X_test, y_train, y_test = train_test_split(X_scaled, y, test_size=0.23, random_state=46)"
   ]
  },
  {
   "cell_type": "code",
   "execution_count": 179,
   "id": "e770f980",
   "metadata": {},
   "outputs": [
    {
     "data": {
      "text/html": [
       "<style>#sk-container-id-25 {color: black;}#sk-container-id-25 pre{padding: 0;}#sk-container-id-25 div.sk-toggleable {background-color: white;}#sk-container-id-25 label.sk-toggleable__label {cursor: pointer;display: block;width: 100%;margin-bottom: 0;padding: 0.3em;box-sizing: border-box;text-align: center;}#sk-container-id-25 label.sk-toggleable__label-arrow:before {content: \"▸\";float: left;margin-right: 0.25em;color: #696969;}#sk-container-id-25 label.sk-toggleable__label-arrow:hover:before {color: black;}#sk-container-id-25 div.sk-estimator:hover label.sk-toggleable__label-arrow:before {color: black;}#sk-container-id-25 div.sk-toggleable__content {max-height: 0;max-width: 0;overflow: hidden;text-align: left;background-color: #f0f8ff;}#sk-container-id-25 div.sk-toggleable__content pre {margin: 0.2em;color: black;border-radius: 0.25em;background-color: #f0f8ff;}#sk-container-id-25 input.sk-toggleable__control:checked~div.sk-toggleable__content {max-height: 200px;max-width: 100%;overflow: auto;}#sk-container-id-25 input.sk-toggleable__control:checked~label.sk-toggleable__label-arrow:before {content: \"▾\";}#sk-container-id-25 div.sk-estimator input.sk-toggleable__control:checked~label.sk-toggleable__label {background-color: #d4ebff;}#sk-container-id-25 div.sk-label input.sk-toggleable__control:checked~label.sk-toggleable__label {background-color: #d4ebff;}#sk-container-id-25 input.sk-hidden--visually {border: 0;clip: rect(1px 1px 1px 1px);clip: rect(1px, 1px, 1px, 1px);height: 1px;margin: -1px;overflow: hidden;padding: 0;position: absolute;width: 1px;}#sk-container-id-25 div.sk-estimator {font-family: monospace;background-color: #f0f8ff;border: 1px dotted black;border-radius: 0.25em;box-sizing: border-box;margin-bottom: 0.5em;}#sk-container-id-25 div.sk-estimator:hover {background-color: #d4ebff;}#sk-container-id-25 div.sk-parallel-item::after {content: \"\";width: 100%;border-bottom: 1px solid gray;flex-grow: 1;}#sk-container-id-25 div.sk-label:hover label.sk-toggleable__label {background-color: #d4ebff;}#sk-container-id-25 div.sk-serial::before {content: \"\";position: absolute;border-left: 1px solid gray;box-sizing: border-box;top: 0;bottom: 0;left: 50%;z-index: 0;}#sk-container-id-25 div.sk-serial {display: flex;flex-direction: column;align-items: center;background-color: white;padding-right: 0.2em;padding-left: 0.2em;position: relative;}#sk-container-id-25 div.sk-item {position: relative;z-index: 1;}#sk-container-id-25 div.sk-parallel {display: flex;align-items: stretch;justify-content: center;background-color: white;position: relative;}#sk-container-id-25 div.sk-item::before, #sk-container-id-25 div.sk-parallel-item::before {content: \"\";position: absolute;border-left: 1px solid gray;box-sizing: border-box;top: 0;bottom: 0;left: 50%;z-index: -1;}#sk-container-id-25 div.sk-parallel-item {display: flex;flex-direction: column;z-index: 1;position: relative;background-color: white;}#sk-container-id-25 div.sk-parallel-item:first-child::after {align-self: flex-end;width: 50%;}#sk-container-id-25 div.sk-parallel-item:last-child::after {align-self: flex-start;width: 50%;}#sk-container-id-25 div.sk-parallel-item:only-child::after {width: 0;}#sk-container-id-25 div.sk-dashed-wrapped {border: 1px dashed gray;margin: 0 0.4em 0.5em 0.4em;box-sizing: border-box;padding-bottom: 0.4em;background-color: white;}#sk-container-id-25 div.sk-label label {font-family: monospace;font-weight: bold;display: inline-block;line-height: 1.2em;}#sk-container-id-25 div.sk-label-container {text-align: center;}#sk-container-id-25 div.sk-container {/* jupyter's `normalize.less` sets `[hidden] { display: none; }` but bootstrap.min.css set `[hidden] { display: none !important; }` so we also need the `!important` here to be able to override the default hidden behavior on the sphinx rendered scikit-learn.org. See: https://github.com/scikit-learn/scikit-learn/issues/21755 */display: inline-block !important;position: relative;}#sk-container-id-25 div.sk-text-repr-fallback {display: none;}</style><div id=\"sk-container-id-25\" class=\"sk-top-container\"><div class=\"sk-text-repr-fallback\"><pre>LogisticRegression()</pre><b>In a Jupyter environment, please rerun this cell to show the HTML representation or trust the notebook. <br />On GitHub, the HTML representation is unable to render, please try loading this page with nbviewer.org.</b></div><div class=\"sk-container\" hidden><div class=\"sk-item\"><div class=\"sk-estimator sk-toggleable\"><input class=\"sk-toggleable__control sk-hidden--visually\" id=\"sk-estimator-id-25\" type=\"checkbox\" checked><label for=\"sk-estimator-id-25\" class=\"sk-toggleable__label sk-toggleable__label-arrow\">LogisticRegression</label><div class=\"sk-toggleable__content\"><pre>LogisticRegression()</pre></div></div></div></div></div>"
      ],
      "text/plain": [
       "LogisticRegression()"
      ]
     },
     "execution_count": 179,
     "metadata": {},
     "output_type": "execute_result"
    }
   ],
   "source": [
    "model = LogisticRegression()\n",
    "model.fit(X_train, y_train)"
   ]
  },
  {
   "cell_type": "code",
   "execution_count": 180,
   "id": "6fe290b9",
   "metadata": {},
   "outputs": [
    {
     "name": "stdout",
     "output_type": "stream",
     "text": [
      "[1 0 0 0 1 1 0 1 0 0 0 0 1 0 0 0 0 0 0 0 0 1 1 0 1 1 0 1 1 0 1 0 0 0 1 0 1\n",
      " 1 0 1 1 0 1 0 0 1 1 0 0 1 1 0 0 1 0 1 1 1 1 1 0 1 1 0 0 0 1 0 0 0 1 1 1 1\n",
      " 0 0 0 0 0 1 0 1 1 1 0 1 1 0 1 1 0 0 0 1 0 1 0 1 0 0 0 0 0 1 0 1 1 0 0 0 0\n",
      " 0 0 0 1 1 1 0 0 0 0 1 0 0 1 0 0 1 1 1 1 0 1 0 0 1 0 1 0 0 1 1 0 0 0 0 1 1\n",
      " 0 0 0 1 1 0 0 1 1 1 0 0 0 0 1 0 1 0 1 1 0 0 0 1 1 0 0 0 0 0 1 0 0 0 0 0 0\n",
      " 0 0 0 0 1 1 0 0 0 1 1 0 0 0 0 0 1 1 0 0 1 1 1 0 0 0 0 0 0 0 0 0 0 0 0 0 0\n",
      " 0 1 0 0 0 1 1 0]\n",
      "              precision    recall  f1-score   support\n",
      "\n",
      "           0       0.55      0.68      0.61       114\n",
      "           1       0.60      0.46      0.52       116\n",
      "\n",
      "    accuracy                           0.57       230\n",
      "   macro avg       0.57      0.57      0.56       230\n",
      "weighted avg       0.57      0.57      0.56       230\n",
      "\n"
     ]
    }
   ],
   "source": [
    "y_pred = model.predict(X_test)\n",
    "print(y_pred)\n",
    "\n",
    "print(classification_report(y_test, y_pred))"
   ]
  }
 ],
 "metadata": {
  "kernelspec": {
   "display_name": "Python 3",
   "language": "python",
   "name": "python3"
  },
  "language_info": {
   "codemirror_mode": {
    "name": "ipython",
    "version": 3
   },
   "file_extension": ".py",
   "mimetype": "text/x-python",
   "name": "python",
   "nbconvert_exporter": "python",
   "pygments_lexer": "ipython3",
   "version": "3.8.10"
  }
 },
 "nbformat": 4,
 "nbformat_minor": 5
}
